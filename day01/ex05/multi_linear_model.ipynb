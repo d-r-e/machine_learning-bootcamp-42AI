{
 "cells": [
  {
   "cell_type": "code",
   "execution_count": 1,
   "metadata": {},
   "outputs": [],
   "source": [
    "import pandas as pd\n",
    "import numpy as np\n",
    "from matplotlib import pyplot as plt\n",
    "from mylinearregression import MyLinearRegression as MyLR"
   ]
  },
  {
   "cell_type": "code",
   "execution_count": 2,
   "metadata": {},
   "outputs": [
    {
     "data": {
      "text/html": [
       "<div>\n",
       "<style scoped>\n",
       "    .dataframe tbody tr th:only-of-type {\n",
       "        vertical-align: middle;\n",
       "    }\n",
       "\n",
       "    .dataframe tbody tr th {\n",
       "        vertical-align: top;\n",
       "    }\n",
       "\n",
       "    .dataframe thead th {\n",
       "        text-align: right;\n",
       "    }\n",
       "</style>\n",
       "<table border=\"1\" class=\"dataframe\">\n",
       "  <thead>\n",
       "    <tr style=\"text-align: right;\">\n",
       "      <th></th>\n",
       "      <th>Age</th>\n",
       "      <th>Thrust_power</th>\n",
       "      <th>Terameters</th>\n",
       "      <th>Sell_price</th>\n",
       "    </tr>\n",
       "  </thead>\n",
       "  <tbody>\n",
       "    <tr>\n",
       "      <th>0</th>\n",
       "      <td>0.000000</td>\n",
       "      <td>102.884445</td>\n",
       "      <td>30.117605</td>\n",
       "      <td>768.658817</td>\n",
       "    </tr>\n",
       "    <tr>\n",
       "      <th>1</th>\n",
       "      <td>1.144554</td>\n",
       "      <td>9.000000</td>\n",
       "      <td>96.110216</td>\n",
       "      <td>62.450103</td>\n",
       "    </tr>\n",
       "    <tr>\n",
       "      <th>2</th>\n",
       "      <td>3.420318</td>\n",
       "      <td>21.804128</td>\n",
       "      <td>11.971169</td>\n",
       "      <td>346.689592</td>\n",
       "    </tr>\n",
       "    <tr>\n",
       "      <th>3</th>\n",
       "      <td>3.604186</td>\n",
       "      <td>30.035427</td>\n",
       "      <td>63.635897</td>\n",
       "      <td>255.096497</td>\n",
       "    </tr>\n",
       "    <tr>\n",
       "      <th>4</th>\n",
       "      <td>2.660055</td>\n",
       "      <td>129.444990</td>\n",
       "      <td>27.010236</td>\n",
       "      <td>921.303347</td>\n",
       "    </tr>\n",
       "    <tr>\n",
       "      <th>...</th>\n",
       "      <td>...</td>\n",
       "      <td>...</td>\n",
       "      <td>...</td>\n",
       "      <td>...</td>\n",
       "    </tr>\n",
       "    <tr>\n",
       "      <th>195</th>\n",
       "      <td>19.367781</td>\n",
       "      <td>95.957785</td>\n",
       "      <td>139.184178</td>\n",
       "      <td>20.000000</td>\n",
       "    </tr>\n",
       "    <tr>\n",
       "      <th>196</th>\n",
       "      <td>17.292362</td>\n",
       "      <td>131.718738</td>\n",
       "      <td>102.329786</td>\n",
       "      <td>402.359178</td>\n",
       "    </tr>\n",
       "    <tr>\n",
       "      <th>197</th>\n",
       "      <td>17.769504</td>\n",
       "      <td>110.547066</td>\n",
       "      <td>104.018450</td>\n",
       "      <td>260.168988</td>\n",
       "    </tr>\n",
       "    <tr>\n",
       "      <th>198</th>\n",
       "      <td>20.000000</td>\n",
       "      <td>178.680560</td>\n",
       "      <td>80.353100</td>\n",
       "      <td>611.782396</td>\n",
       "    </tr>\n",
       "    <tr>\n",
       "      <th>199</th>\n",
       "      <td>19.575478</td>\n",
       "      <td>200.000000</td>\n",
       "      <td>200.000000</td>\n",
       "      <td>437.980652</td>\n",
       "    </tr>\n",
       "  </tbody>\n",
       "</table>\n",
       "<p>200 rows × 4 columns</p>\n",
       "</div>"
      ],
      "text/plain": [
       "           Age  Thrust_power  Terameters  Sell_price\n",
       "0     0.000000    102.884445   30.117605  768.658817\n",
       "1     1.144554      9.000000   96.110216   62.450103\n",
       "2     3.420318     21.804128   11.971169  346.689592\n",
       "3     3.604186     30.035427   63.635897  255.096497\n",
       "4     2.660055    129.444990   27.010236  921.303347\n",
       "..         ...           ...         ...         ...\n",
       "195  19.367781     95.957785  139.184178   20.000000\n",
       "196  17.292362    131.718738  102.329786  402.359178\n",
       "197  17.769504    110.547066  104.018450  260.168988\n",
       "198  20.000000    178.680560   80.353100  611.782396\n",
       "199  19.575478    200.000000  200.000000  437.980652\n",
       "\n",
       "[200 rows x 4 columns]"
      ]
     },
     "execution_count": 2,
     "metadata": {},
     "output_type": "execute_result"
    }
   ],
   "source": [
    "df = pd.read_csv('spacecraft_data.csv')\n",
    "df"
   ]
  },
  {
   "cell_type": "code",
   "execution_count": 9,
   "metadata": {},
   "outputs": [],
   "source": [
    "model1 = MyLR([800,-30])\n",
    "X = np.array(df['Age'])\n",
    "Y = np.array(df['Sell_price'])\n",
    "X = X.reshape(len(X), 1)\n",
    "model1.fit_(X, Y, alpha=0.0001, n_cycle=10000)\n",
    "Ymodel1 = model1.predict_(X)"
   ]
  },
  {
   "cell_type": "code",
   "execution_count": 15,
   "metadata": {},
   "outputs": [
    {
     "data": {
      "image/png": "[encoded data removed]",
      "text/plain": [
       "<Figure size 432x288 with 1 Axes>"
      ]
     },
     "metadata": {
      "needs_background": "light"
     },
     "output_type": "display_data"
    }
   ],
   "source": [
    "figure = plt.figure()\n",
    "plt.plot(X, Ymodel1, 'ro', color='lightblue')\n",
    "plt.plot(X, np.array(df['Sell_price']), 'o', color='darkblue')\n",
    "figure.show()"
   ]
  },
  {
   "cell_type": "code",
   "execution_count": null,
   "metadata": {},
   "outputs": [],
   "source": []
  }
 ],
 "metadata": {
  "kernelspec": {
   "display_name": "Python 3",
   "language": "python",
   "name": "python3"
  },
  "language_info": {
   "codemirror_mode": {
    "name": "ipython",
    "version": 3
   },
   "file_extension": ".py",
   "mimetype": "text/x-python",
   "name": "python",
   "nbconvert_exporter": "python",
   "pygments_lexer": "ipython3",
   "version": "3.7.3"
  }
 },
 "nbformat": 4,
 "nbformat_minor": 4
}
